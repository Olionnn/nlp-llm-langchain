{
 "cells": [
  {
   "cell_type": "code",
   "execution_count": 1,
   "metadata": {},
   "outputs": [],
   "source": [
    "kata = \"Halo Saya Ardi\"\n",
    "lowercasenya = kata.lower()"
   ]
  },
  {
   "cell_type": "code",
   "execution_count": 2,
   "metadata": {},
   "outputs": [
    {
     "name": "stdout",
     "output_type": "stream",
     "text": [
      "halo saya ardi\n"
     ]
    }
   ],
   "source": [
    "print(lowercasenya)"
   ]
  },
  {
   "cell_type": "code",
   "execution_count": 7,
   "metadata": {},
   "outputs": [],
   "source": [
    "list_kata = ['Halo Nama Saya Ardi',\n",
    "             'Saya Sedang Belajar Python',\n",
    "             'Saya Ingin Bisa Membuat AI']\n"
   ]
  },
  {
   "cell_type": "code",
   "execution_count": 14,
   "metadata": {},
   "outputs": [
    {
     "name": "stdout",
     "output_type": "stream",
     "text": [
      "['halo nama saya ardi', 'saya sedang belajar python', 'saya ingin bisa membuat ai']\n"
     ]
    }
   ],
   "source": [
    "lwr_kata_list = [x.lower() for x in list_kata]\n",
    "print(lwr_kata_list)"
   ]
  }
 ],
 "metadata": {
  "kernelspec": {
   "display_name": "venv",
   "language": "python",
   "name": "python3"
  },
  "language_info": {
   "codemirror_mode": {
    "name": "ipython",
    "version": 3
   },
   "file_extension": ".py",
   "mimetype": "text/x-python",
   "name": "python",
   "nbconvert_exporter": "python",
   "pygments_lexer": "ipython3",
   "version": "3.11.9"
  }
 },
 "nbformat": 4,
 "nbformat_minor": 2
}
