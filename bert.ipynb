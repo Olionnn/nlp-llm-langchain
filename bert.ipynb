{
 "cells": [
  {
   "cell_type": "code",
   "execution_count": 90,
   "metadata": {},
   "outputs": [
    {
     "name": "stdout",
     "output_type": "stream",
     "text": [
      "Requirement already satisfied: sentence-transformers in .\\venv\\lib\\site-packages (3.2.1)\n",
      "Requirement already satisfied: transformers<5.0.0,>=4.41.0 in .\\venv\\lib\\site-packages (from sentence-transformers) (4.46.1)\n",
      "Requirement already satisfied: tqdm in .\\venv\\lib\\site-packages (from sentence-transformers) (4.66.6)\n",
      "Requirement already satisfied: torch>=1.11.0 in .\\venv\\lib\\site-packages (from sentence-transformers) (2.5.1+cu121)\n",
      "Requirement already satisfied: scikit-learn in .\\venv\\lib\\site-packages (from sentence-transformers) (1.5.2)\n",
      "Requirement already satisfied: scipy in .\\venv\\lib\\site-packages (from sentence-transformers) (1.14.1)\n",
      "Requirement already satisfied: huggingface-hub>=0.20.0 in .\\venv\\lib\\site-packages (from sentence-transformers) (0.26.2)\n",
      "Requirement already satisfied: Pillow in .\\venv\\lib\\site-packages (from sentence-transformers) (10.2.0)\n",
      "Requirement already satisfied: filelock in .\\venv\\lib\\site-packages (from huggingface-hub>=0.20.0->sentence-transformers) (3.16.1)\n",
      "Requirement already satisfied: fsspec>=2023.5.0 in .\\venv\\lib\\site-packages (from huggingface-hub>=0.20.0->sentence-transformers) (2024.10.0)\n",
      "Requirement already satisfied: packaging>=20.9 in .\\venv\\lib\\site-packages (from huggingface-hub>=0.20.0->sentence-transformers) (24.1)\n",
      "Requirement already satisfied: pyyaml>=5.1 in .\\venv\\lib\\site-packages (from huggingface-hub>=0.20.0->sentence-transformers) (6.0.2)\n",
      "Requirement already satisfied: requests in .\\venv\\lib\\site-packages (from huggingface-hub>=0.20.0->sentence-transformers) (2.32.3)\n",
      "Requirement already satisfied: typing-extensions>=3.7.4.3 in .\\venv\\lib\\site-packages (from huggingface-hub>=0.20.0->sentence-transformers) (4.12.2)\n",
      "Requirement already satisfied: networkx in .\\venv\\lib\\site-packages (from torch>=1.11.0->sentence-transformers) (3.4.2)\n",
      "Requirement already satisfied: jinja2 in .\\venv\\lib\\site-packages (from torch>=1.11.0->sentence-transformers) (3.1.4)\n",
      "Requirement already satisfied: sympy==1.13.1 in .\\venv\\lib\\site-packages (from torch>=1.11.0->sentence-transformers) (1.13.1)\n",
      "Requirement already satisfied: mpmath<1.4,>=1.1.0 in .\\venv\\lib\\site-packages (from sympy==1.13.1->torch>=1.11.0->sentence-transformers) (1.3.0)\n",
      "Requirement already satisfied: colorama in .\\venv\\lib\\site-packages (from tqdm->sentence-transformers) (0.4.6)\n",
      "Requirement already satisfied: numpy>=1.17 in .\\venv\\lib\\site-packages (from transformers<5.0.0,>=4.41.0->sentence-transformers) (1.26.4)\n",
      "Requirement already satisfied: regex!=2019.12.17 in .\\venv\\lib\\site-packages (from transformers<5.0.0,>=4.41.0->sentence-transformers) (2024.9.11)\n",
      "Requirement already satisfied: safetensors>=0.4.1 in .\\venv\\lib\\site-packages (from transformers<5.0.0,>=4.41.0->sentence-transformers) (0.4.5)\n",
      "Requirement already satisfied: tokenizers<0.21,>=0.20 in .\\venv\\lib\\site-packages (from transformers<5.0.0,>=4.41.0->sentence-transformers) (0.20.1)\n",
      "Requirement already satisfied: joblib>=1.2.0 in .\\venv\\lib\\site-packages (from scikit-learn->sentence-transformers) (1.4.2)\n",
      "Requirement already satisfied: threadpoolctl>=3.1.0 in .\\venv\\lib\\site-packages (from scikit-learn->sentence-transformers) (3.5.0)\n",
      "Requirement already satisfied: MarkupSafe>=2.0 in .\\venv\\lib\\site-packages (from jinja2->torch>=1.11.0->sentence-transformers) (3.0.2)\n",
      "Requirement already satisfied: charset-normalizer<4,>=2 in .\\venv\\lib\\site-packages (from requests->huggingface-hub>=0.20.0->sentence-transformers) (3.4.0)\n",
      "Requirement already satisfied: idna<4,>=2.5 in .\\venv\\lib\\site-packages (from requests->huggingface-hub>=0.20.0->sentence-transformers) (3.10)\n",
      "Requirement already satisfied: urllib3<3,>=1.21.1 in .\\venv\\lib\\site-packages (from requests->huggingface-hub>=0.20.0->sentence-transformers) (2.2.3)\n",
      "Requirement already satisfied: certifi>=2017.4.17 in .\\venv\\lib\\site-packages (from requests->huggingface-hub>=0.20.0->sentence-transformers) (2024.8.30)\n",
      "Note: you may need to restart the kernel to use updated packages.\n"
     ]
    },
    {
     "name": "stderr",
     "output_type": "stream",
     "text": [
      "\n",
      "[notice] A new release of pip is available: 24.0 -> 24.3.1\n",
      "[notice] To update, run: python.exe -m pip install --upgrade pip\n"
     ]
    }
   ],
   "source": [
    "%pip install -U sentence-transformers\n"
   ]
  },
  {
   "cell_type": "code",
   "execution_count": 149,
   "metadata": {},
   "outputs": [],
   "source": [
    "from transformers import BertForQuestionAnswering\n",
    "from transformers import BertTokenizer\n",
    "\n",
    "import torch"
   ]
  },
  {
   "cell_type": "code",
   "execution_count": 150,
   "metadata": {},
   "outputs": [],
   "source": [
    "model_name = 'bert-large-uncased-whole-word-masking-finetuned-squad'"
   ]
  },
  {
   "cell_type": "code",
   "execution_count": 151,
   "metadata": {},
   "outputs": [
    {
     "name": "stderr",
     "output_type": "stream",
     "text": [
      "Some weights of the model checkpoint at bert-large-uncased-whole-word-masking-finetuned-squad were not used when initializing BertForQuestionAnswering: ['bert.pooler.dense.bias', 'bert.pooler.dense.weight']\n",
      "- This IS expected if you are initializing BertForQuestionAnswering from the checkpoint of a model trained on another task or with another architecture (e.g. initializing a BertForSequenceClassification model from a BertForPreTraining model).\n",
      "- This IS NOT expected if you are initializing BertForQuestionAnswering from the checkpoint of a model that you expect to be exactly identical (initializing a BertForSequenceClassification model from a BertForSequenceClassification model).\n"
     ]
    }
   ],
   "source": [
    "model = BertForQuestionAnswering.from_pretrained(model_name)"
   ]
  },
  {
   "cell_type": "code",
   "execution_count": 152,
   "metadata": {},
   "outputs": [],
   "source": [
    "tokenizer = BertTokenizer.from_pretrained(model_name)\n"
   ]
  },
  {
   "cell_type": "markdown",
   "metadata": {},
   "source": [
    "## Embedding"
   ]
  },
  {
   "cell_type": "code",
   "execution_count": 190,
   "metadata": {},
   "outputs": [],
   "source": [
    "question = \"What is the capital of France?\"\n",
    "answer_text = \"Paris. the capital of France.\"\n",
    "# question = \"Dimana Menara Eifel terletak?\"\n",
    "# answer_text = \"Menara Eifel terletak di Paris, Perancis\""
   ]
  },
  {
   "cell_type": "code",
   "execution_count": 191,
   "metadata": {},
   "outputs": [
    {
     "name": "stdout",
     "output_type": "stream",
     "text": [
      "{'input_ids': [101, 2054, 2003, 1996, 3007, 1997, 2605, 1029, 102, 3000, 1012, 1996, 3007, 1997, 2605, 1012, 102], 'token_type_ids': [0, 0, 0, 0, 0, 0, 0, 0, 0, 1, 1, 1, 1, 1, 1, 1, 1], 'attention_mask': [1, 1, 1, 1, 1, 1, 1, 1, 1, 1, 1, 1, 1, 1, 1, 1, 1]}\n"
     ]
    }
   ],
   "source": [
    "encoding = tokenizer.encode_plus(text=question, text_pair=answer_text)\n",
    "# encoded_input = tokenizer(sentences, padding=True, truncation=True, return_tensors='pt')\n",
    "\n",
    "print(encoding)"
   ]
  },
  {
   "cell_type": "code",
   "execution_count": 192,
   "metadata": {},
   "outputs": [],
   "source": [
    "# inputs = encoding['input_ids']\n",
    "# sentence_embedding = encoding['token_type_ids']\n",
    "inputs = encoding['input_ids']\n",
    "sentence_embedding = encoding['token_type_ids']\n",
    "# sentence_embeddings = mean_pooling(model_output, encoding['attention_mask'])\n",
    "tokens = tokenizer.convert_ids_to_tokens(inputs)"
   ]
  },
  {
   "cell_type": "code",
   "execution_count": 193,
   "metadata": {},
   "outputs": [
    {
     "data": {
      "text/plain": [
       "'[CLS]'"
      ]
     },
     "execution_count": 193,
     "metadata": {},
     "output_type": "execute_result"
    }
   ],
   "source": [
    "tokenizer.decode(101)"
   ]
  },
  {
   "cell_type": "code",
   "execution_count": 194,
   "metadata": {},
   "outputs": [
    {
     "data": {
      "text/plain": [
       "'[SEP]'"
      ]
     },
     "execution_count": 194,
     "metadata": {},
     "output_type": "execute_result"
    }
   ],
   "source": [
    "tokenizer.decode(102)"
   ]
  },
  {
   "cell_type": "code",
   "execution_count": 195,
   "metadata": {},
   "outputs": [
    {
     "name": "stdout",
     "output_type": "stream",
     "text": [
      "QuestionAnsweringModelOutput(loss=None, start_logits=tensor([[-5.6564, -2.7887, -7.5513, -4.8987, -5.6732, -6.2344, -4.3405, -7.9914,\n",
      "         -5.6562,  7.0910, -5.9000, -1.6970, -2.2145, -4.3695, -2.0098, -5.6561,\n",
      "         -5.6559]], grad_fn=<CloneBackward0>), end_logits=tensor([[-0.3743, -1.8303, -5.0285, -5.9212, -4.6940, -5.1458, -1.1887, -4.8764,\n",
      "         -0.3740,  7.7526, -0.1402, -3.5460, -1.3315, -3.4334,  2.1857, -0.3748,\n",
      "         -0.3748]], grad_fn=<CloneBackward0>), hidden_states=None, attentions=None)\n"
     ]
    }
   ],
   "source": [
    "output = model(input_ids=torch.tensor([inputs]), token_type_ids=torch.tensor([sentence_embedding]))\n",
    "print(output)"
   ]
  },
  {
   "cell_type": "code",
   "execution_count": 196,
   "metadata": {},
   "outputs": [
    {
     "name": "stdout",
     "output_type": "stream",
     "text": [
      "paris\n"
     ]
    }
   ],
   "source": [
    "start_index = torch.argmax(output.start_logits)\n",
    "end_index = torch.argmax(output.end_logits)\n",
    "\n",
    "answer = ' '.join(tokens[start_index:end_index+1])\n",
    "\n",
    "print(answer)"
   ]
  },
  {
   "cell_type": "code",
   "execution_count": 16,
   "metadata": {},
   "outputs": [
    {
     "name": "stdout",
     "output_type": "stream",
     "text": [
      "Collecting matplotlibNote: you may need to restart the kernel to use updated packages.\n",
      "\n",
      "  Using cached matplotlib-3.9.2-cp311-cp311-win_amd64.whl.metadata (11 kB)\n",
      "Collecting seaborn\n",
      "  Downloading seaborn-0.13.2-py3-none-any.whl.metadata (5.4 kB)\n",
      "Collecting contourpy>=1.0.1 (from matplotlib)\n",
      "  Using cached contourpy-1.3.0-cp311-cp311-win_amd64.whl.metadata (5.4 kB)\n",
      "Collecting cycler>=0.10 (from matplotlib)\n",
      "  Using cached cycler-0.12.1-py3-none-any.whl.metadata (3.8 kB)\n",
      "Collecting fonttools>=4.22.0 (from matplotlib)\n",
      "  Using cached fonttools-4.54.1-cp311-cp311-win_amd64.whl.metadata (167 kB)\n",
      "Collecting kiwisolver>=1.3.1 (from matplotlib)\n",
      "  Using cached kiwisolver-1.4.7-cp311-cp311-win_amd64.whl.metadata (6.4 kB)\n",
      "Requirement already satisfied: numpy>=1.23 in .\\venv\\lib\\site-packages (from matplotlib) (1.26.4)\n",
      "Requirement already satisfied: packaging>=20.0 in .\\venv\\lib\\site-packages (from matplotlib) (24.1)\n",
      "Requirement already satisfied: pillow>=8 in .\\venv\\lib\\site-packages (from matplotlib) (10.2.0)\n",
      "Collecting pyparsing>=2.3.1 (from matplotlib)\n",
      "  Downloading pyparsing-3.2.0-py3-none-any.whl.metadata (5.0 kB)\n",
      "Requirement already satisfied: python-dateutil>=2.7 in .\\venv\\lib\\site-packages (from matplotlib) (2.9.0.post0)\n",
      "Requirement already satisfied: pandas>=1.2 in .\\venv\\lib\\site-packages (from seaborn) (2.2.3)\n",
      "Requirement already satisfied: pytz>=2020.1 in .\\venv\\lib\\site-packages (from pandas>=1.2->seaborn) (2024.2)\n",
      "Requirement already satisfied: tzdata>=2022.7 in .\\venv\\lib\\site-packages (from pandas>=1.2->seaborn) (2024.2)\n",
      "Requirement already satisfied: six>=1.5 in .\\venv\\lib\\site-packages (from python-dateutil>=2.7->matplotlib) (1.16.0)\n",
      "Using cached matplotlib-3.9.2-cp311-cp311-win_amd64.whl (7.8 MB)\n",
      "Downloading seaborn-0.13.2-py3-none-any.whl (294 kB)\n",
      "   ---------------------------------------- 0.0/294.9 kB ? eta -:--:--\n",
      "   ---------------------------------------- 0.0/294.9 kB ? eta -:--:--\n",
      "   - -------------------------------------- 10.2/294.9 kB ? eta -:--:--\n",
      "   ----- --------------------------------- 41.0/294.9 kB 393.8 kB/s eta 0:00:01\n",
      "   ---------- ---------------------------- 81.9/294.9 kB 573.4 kB/s eta 0:00:01\n",
      "   --------------- ---------------------- 122.9/294.9 kB 654.9 kB/s eta 0:00:01\n",
      "   ---------------------- --------------- 174.1/294.9 kB 748.1 kB/s eta 0:00:01\n",
      "   ------------------------- ------------ 194.6/294.9 kB 787.7 kB/s eta 0:00:01\n",
      "   ------------------------------- ------ 245.8/294.9 kB 793.0 kB/s eta 0:00:01\n",
      "   -------------------------------- ----- 256.0/294.9 kB 714.4 kB/s eta 0:00:01\n",
      "   -------------------------------------- 294.9/294.9 kB 728.1 kB/s eta 0:00:00\n",
      "Using cached contourpy-1.3.0-cp311-cp311-win_amd64.whl (217 kB)\n",
      "Using cached cycler-0.12.1-py3-none-any.whl (8.3 kB)\n",
      "Using cached fonttools-4.54.1-cp311-cp311-win_amd64.whl (2.2 MB)\n",
      "Using cached kiwisolver-1.4.7-cp311-cp311-win_amd64.whl (56 kB)\n",
      "Downloading pyparsing-3.2.0-py3-none-any.whl (106 kB)\n",
      "   ---------------------------------------- 0.0/106.9 kB ? eta -:--:--\n",
      "   ---------------------------------------- 0.0/106.9 kB ? eta -:--:--\n",
      "   --- ------------------------------------ 10.2/106.9 kB ? eta -:--:--\n",
      "   --- ------------------------------------ 10.2/106.9 kB ? eta -:--:--\n",
      "   ----------- --------------------------- 30.7/106.9 kB 330.3 kB/s eta 0:00:01\n",
      "   -------------- ------------------------ 41.0/106.9 kB 219.4 kB/s eta 0:00:01\n",
      "   -------------- ------------------------ 41.0/106.9 kB 219.4 kB/s eta 0:00:01\n",
      "   -------------- ------------------------ 41.0/106.9 kB 219.4 kB/s eta 0:00:01\n",
      "   -------------- ------------------------ 41.0/106.9 kB 219.4 kB/s eta 0:00:01\n",
      "   ---------------------- ---------------- 61.4/106.9 kB 172.4 kB/s eta 0:00:01\n",
      "   ---------------------- ---------------- 61.4/106.9 kB 172.4 kB/s eta 0:00:01\n",
      "   ---------------------- ---------------- 61.4/106.9 kB 172.4 kB/s eta 0:00:01\n",
      "   -------------------------- ------------ 71.7/106.9 kB 135.6 kB/s eta 0:00:01\n",
      "   -------------------------- ------------ 71.7/106.9 kB 135.6 kB/s eta 0:00:01\n",
      "   -------------------------- ------------ 71.7/106.9 kB 135.6 kB/s eta 0:00:01\n",
      "   -------------------------- ------------ 71.7/106.9 kB 135.6 kB/s eta 0:00:01\n",
      "   --------------------------------- ----- 92.2/106.9 kB 131.1 kB/s eta 0:00:01\n",
      "   ------------------------------------ - 102.4/106.9 kB 131.1 kB/s eta 0:00:01\n",
      "   -------------------------------------- 106.9/106.9 kB 134.5 kB/s eta 0:00:00\n",
      "Installing collected packages: pyparsing, kiwisolver, fonttools, cycler, contourpy, matplotlib, seaborn\n",
      "Successfully installed contourpy-1.3.0 cycler-0.12.1 fonttools-4.54.1 kiwisolver-1.4.7 matplotlib-3.9.2 pyparsing-3.2.0 seaborn-0.13.2\n"
     ]
    },
    {
     "name": "stderr",
     "output_type": "stream",
     "text": [
      "\n",
      "[notice] A new release of pip is available: 24.0 -> 24.3.1\n",
      "[notice] To update, run: python.exe -m pip install --upgrade pip\n"
     ]
    }
   ],
   "source": [
    "%pip install matplotlib seaborn"
   ]
  },
  {
   "cell_type": "code",
   "execution_count": 197,
   "metadata": {},
   "outputs": [],
   "source": [
    "\n",
    "\n",
    "import matplotlib.pyplot as plt\n",
    "import seaborn as sns"
   ]
  },
  {
   "cell_type": "code",
   "execution_count": 198,
   "metadata": {},
   "outputs": [],
   "source": [
    "s_scores = output.start_logits.detach().numpy().flatten()\n",
    "e_scores = output.end_logits.detach().numpy().flatten()\n"
   ]
  },
  {
   "cell_type": "code",
   "execution_count": 199,
   "metadata": {},
   "outputs": [],
   "source": [
    "token_labels = []\n",
    "for (i, token) in enumerate(tokens):\n",
    "    token_labels.append('{:} - {:>2}'.format(token, i))"
   ]
  },
  {
   "cell_type": "code",
   "execution_count": 200,
   "metadata": {},
   "outputs": [
    {
     "name": "stderr",
     "output_type": "stream",
     "text": [
      "C:\\Users\\Olionnn\\AppData\\Local\\Temp\\ipykernel_17660\\2447522196.py:1: FutureWarning: \n",
      "\n",
      "The `ci` parameter is deprecated. Use `errorbar=None` for the same effect.\n",
      "\n",
      "  ax = sns.barplot(x=token_labels, y=s_scores, ci=None)\n",
      "C:\\Users\\Olionnn\\AppData\\Local\\Temp\\ipykernel_17660\\2447522196.py:2: UserWarning: set_ticklabels() should only be used with a fixed number of ticks, i.e. after set_ticks() or using a FixedLocator.\n",
      "  ax.set_xticklabels(ax.get_xticklabels(), rotation=90, ha=\"center\")\n"
     ]
    },
    {
     "data": {
      "image/png": "[encoded data removed]",
      "text/plain": [
       "<Figure size 640x480 with 1 Axes>"
      ]
     },
     "metadata": {},
     "output_type": "display_data"
    }
   ],
   "source": [
    "ax = sns.barplot(x=token_labels, y=s_scores, ci=None)\n",
    "ax.set_xticklabels(ax.get_xticklabels(), rotation=90, ha=\"center\")\n",
    "ax.grid(True)"
   ]
  },
  {
   "cell_type": "code",
   "execution_count": 202,
   "metadata": {},
   "outputs": [
    {
     "name": "stdout",
     "output_type": "stream",
     "text": [
      "Digital Poin Teknologi is a company focused on developing innovative technology solutions to help businesses grow and thrive sustainably. The primary services offered include mobile application development, web application development, and UI/UX design services, all tailored to create intuitive user experiences and meet the needs of modern businesses. The company’s competence is demonstrated through various successful projects, such as the development of an automated lottery system for MR.DIY and a membership system for MR.DIY Indonesia, which play a crucial role in enhancing customer engagement and loyalty.With its office located on Jl. Sultan Iskandar Muda, Kebayoran Lama Utara, South Jakarta, Digital Poin Teknologi is committed to being a partner in digital transformation, helping clients adopt the latest technologies and ensuring they remain competitive in the market. Through a collaborative approach, the company focuses on delivering impactful and relevant solutions while becoming a vital part of clients' long-term success in the digital era.\n"
     ]
    }
   ],
   "source": [
    "# digipoin_faq = 'Digital Poin Teknologi adalah perusahaan yang berfokus pada pengembangan solusi teknologi inovatif untuk membantu bisnis tumbuh dan berkembang secara berkelanjutan. Layanan utama yang ditawarkan meliputi pengembangan aplikasi mobile, pengembangan aplikasi web, dan layanan desain UI/UX, yang dirancang untuk menciptakan pengalaman pengguna yang intuitif serta memenuhi kebutuhan bisnis modern. Berbagai proyek sukses telah membuktikan kompetensi perusahaan, seperti pengembangan sistem undian otomatis untuk MR.DIY dan sistem keanggotaan untuk MR.DIY Indonesia, yang berperan penting dalam meningkatkan keterlibatan serta loyalitas pelanggan. Dengan lokasi kantor di Jl. Sultan Iskandar Muda, Kebayoran Lama Utara, Jakarta Selatan, Digital Poin Teknologi berkomitmen untuk menjadi mitra dalam transformasi digital, membantu klien mengadopsi teknologi terbaru dan memastikan mereka tetap kompetitif di pasar. Melalui pendekatan kolaboratif, perusahaan ini fokus pada pemberian solusi yang berdampak dan relevan, sekaligus menjadi bagian penting dalam perjalanan klien menuju kesuksesan jangka panjang di era digital.'\n",
    "digipoin_faq = 'Digital Poin Teknologi is a company focused on developing innovative technology solutions to help businesses grow and thrive sustainably. The primary services offered include mobile application development, web application development, and UI/UX design services, all tailored to create intuitive user experiences and meet the needs of modern businesses. The company’s competence is demonstrated through various successful projects, such as the development of an automated lottery system for MR.DIY and a membership system for MR.DIY Indonesia, which play a crucial role in enhancing customer engagement and loyalty.With its office located on Jl. Sultan Iskandar Muda, Kebayoran Lama Utara, South Jakarta, Digital Poin Teknologi is committed to being a partner in digital transformation, helping clients adopt the latest technologies and ensuring they remain competitive in the market. Through a collaborative approach, the company focuses on delivering impactful and relevant solutions while becoming a vital part of clients\\' long-term success in the digital era.'\n",
    "print(digipoin_faq)"
   ]
  },
  {
   "cell_type": "code",
   "execution_count": 203,
   "metadata": {},
   "outputs": [],
   "source": [
    "def faq_bot(question):\n",
    "    context = digipoin_faq\n",
    "    input_ids = tokenizer.encode(question, context)\n",
    "    tokens = tokenizer.convert_ids_to_tokens(input_ids)\n",
    "    sep_index = input_ids.index(tokenizer.sep_token_id)\n",
    "    num_seg_a = sep_index + 1\n",
    "    num_seg_b = len(input_ids) - num_seg_a\n",
    "    segment_ids = [0]*num_seg_a + [1]*num_seg_b\n",
    "    outputs = model(torch.tensor([input_ids]), token_type_ids=torch.tensor([segment_ids]))\n",
    "    start_scores = outputs.start_logits\n",
    "    end_scores = outputs.end_logits\n",
    "    answer_start = torch.argmax(start_scores)\n",
    "    answer_end = torch.argmax(end_scores)\n",
    "    if answer_end >= answer_start:\n",
    "        answer = ' '.join(tokens[answer_start:answer_end+1])\n",
    "    else:\n",
    "        answer = ' '.join(tokens[answer_start:])\n",
    "    corrected_answer = ''\n",
    "    for word in answer.split():\n",
    "        if word[0:2] == '##':\n",
    "            corrected_answer += word[2:]\n",
    "        else:\n",
    "            corrected_answer += ' ' + word\n",
    "    return corrected_answer\n",
    "\n"
   ]
  },
  {
   "cell_type": "code",
   "execution_count": 206,
   "metadata": {},
   "outputs": [
    {
     "data": {
      "text/plain": [
       "' mobile application development , web application development , and ui / ux design services'"
      ]
     },
     "execution_count": 206,
     "metadata": {},
     "output_type": "execute_result"
    }
   ],
   "source": [
    "\n",
    "question = \"What services does Digital Poin Teknologi provide?\"\n",
    "faq_bot(question)"
   ]
  },
  {
   "cell_type": "code",
   "execution_count": 205,
   "metadata": {},
   "outputs": [
    {
     "data": {
      "text/plain": [
       "' south jakarta'"
      ]
     },
     "execution_count": 205,
     "metadata": {},
     "output_type": "execute_result"
    }
   ],
   "source": [
    "question = \"Where is Digital Poin Teknologi located?\"\n",
    "faq_bot(question)"
   ]
  },
  {
   "cell_type": "code",
   "execution_count": 208,
   "metadata": {},
   "outputs": [
    {
     "data": {
      "text/plain": [
       "' development of an automated lottery system for mr . diy and a membership system for mr . diy indonesia'"
      ]
     },
     "execution_count": 208,
     "metadata": {},
     "output_type": "execute_result"
    }
   ],
   "source": [
    "question = \"What is success story of Digital Poin Teknologi?\"\n",
    "faq_bot(question)"
   ]
  },
  {
   "cell_type": "code",
   "execution_count": 210,
   "metadata": {},
   "outputs": [
    {
     "data": {
      "text/plain": [
       "' being a partner in digital transformation'"
      ]
     },
     "execution_count": 210,
     "metadata": {},
     "output_type": "execute_result"
    }
   ],
   "source": [
    "question = \"What is the commitment of Digital Poin Teknologi?\"\n",
    "faq_bot(question)"
   ]
  },
  {
   "cell_type": "code",
   "execution_count": 211,
   "metadata": {},
   "outputs": [
    {
     "data": {
      "text/plain": [
       "' digital poin teknologi'"
      ]
     },
     "execution_count": 211,
     "metadata": {},
     "output_type": "execute_result"
    }
   ],
   "source": [
    "question = \"Digipoin stands for?\"\n",
    "faq_bot(question)"
   ]
  }
 ],
 "metadata": {
  "kernelspec": {
   "display_name": "venv",
   "language": "python",
   "name": "python3"
  },
  "language_info": {
   "codemirror_mode": {
    "name": "ipython",
    "version": 3
   },
   "file_extension": ".py",
   "mimetype": "text/x-python",
   "name": "python",
   "nbconvert_exporter": "python",
   "pygments_lexer": "ipython3",
   "version": "3.11.9"
  }
 },
 "nbformat": 4,
 "nbformat_minor": 2
}
